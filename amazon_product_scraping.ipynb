{
 "cells": [
  {
   "cell_type": "code",
   "execution_count": null,
   "id": "f331a7dc",
   "metadata": {},
   "outputs": [],
   "source": [
    "Go to Amazon\n",
    "\n",
    "Search `Samsung`\n",
    "\n",
    "Save product names to the database (XLSX , CSV , TXT, anything) (You can use anything that helps you uniquely identify the product.)\n",
    "\n",
    "Task is to print all the new products and removed products since our last search.\n",
    "\n",
    "So if we run your code daily it should print all products that are new on that page and all the products that have been removed since our last search.\n",
    "\n",
    "\n",
    "****************************** Test ******************************\n",
    "After you are done coding, this is how you can test your code:\n",
    "\n",
    "1 New products detection: Remove one product from the database and that product should show up as new product in code output.\n",
    "\n",
    "2. Remove product detection: Add one fake product to the database and it should show up as removed product.\n",
    "****************************** Test ******************************\n"
   ]
  },
  {
   "cell_type": "code",
   "execution_count": 1,
   "id": "8c363d9f",
   "metadata": {},
   "outputs": [
    {
     "name": "stderr",
     "output_type": "stream",
     "text": [
      "/tmp/ipykernel_32403/3856689147.py:6: DeprecationWarning: executable_path has been deprecated, please pass in a Service object\n",
      "  driver = webdriver.Chrome('./chromedriver')\n",
      "/tmp/ipykernel_32403/3856689147.py:9: DeprecationWarning: find_element_by_xpath is deprecated. Please use find_element(by=By.XPATH, value=xpath) instead\n",
      "  search_box = driver.find_element_by_xpath('/html/body/div[1]/header/div/div[1]/div[2]/div/form/div[2]/div[1]/input')\n",
      "/tmp/ipykernel_32403/3856689147.py:13: DeprecationWarning: find_elements_by_css_selector is deprecated. Please use find_elements(by=By.CSS_SELECTOR, value=css_selector) instead\n",
      "  prod_name = driver.find_elements_by_css_selector('.a-size-medium')\n"
     ]
    },
    {
     "data": {
      "text/html": [
       "<div>\n",
       "<style scoped>\n",
       "    .dataframe tbody tr th:only-of-type {\n",
       "        vertical-align: middle;\n",
       "    }\n",
       "\n",
       "    .dataframe tbody tr th {\n",
       "        vertical-align: top;\n",
       "    }\n",
       "\n",
       "    .dataframe thead th {\n",
       "        text-align: right;\n",
       "    }\n",
       "</style>\n",
       "<table border=\"1\" class=\"dataframe\">\n",
       "  <thead>\n",
       "    <tr style=\"text-align: right;\">\n",
       "      <th></th>\n",
       "      <th>samsung_phones</th>\n",
       "    </tr>\n",
       "  </thead>\n",
       "  <tbody>\n",
       "    <tr>\n",
       "      <th>0</th>\n",
       "      <td>Samsung Galaxy A52s 5G</td>\n",
       "    </tr>\n",
       "    <tr>\n",
       "      <th>1</th>\n",
       "      <td>Samsung Guru 1215</td>\n",
       "    </tr>\n",
       "    <tr>\n",
       "      <th>2</th>\n",
       "      <td>Samsung Galaxy M32</td>\n",
       "    </tr>\n",
       "    <tr>\n",
       "      <th>3</th>\n",
       "      <td>Samsung Galaxy M53 5G</td>\n",
       "    </tr>\n",
       "    <tr>\n",
       "      <th>4</th>\n",
       "      <td>Samsung Galaxy M32 5G</td>\n",
       "    </tr>\n",
       "    <tr>\n",
       "      <th>5</th>\n",
       "      <td>Samsung Galaxy A13 Blue, 4GB RAM, 64GB Storage...</td>\n",
       "    </tr>\n",
       "    <tr>\n",
       "      <th>6</th>\n",
       "      <td>Samsung Galaxy M33 5G</td>\n",
       "    </tr>\n",
       "    <tr>\n",
       "      <th>7</th>\n",
       "      <td>Samsung Galaxy A23 Light Blue, 6GB RAM, 128GB ...</td>\n",
       "    </tr>\n",
       "    <tr>\n",
       "      <th>8</th>\n",
       "      <td>Samsung Galaxy S21 FE 5G</td>\n",
       "    </tr>\n",
       "    <tr>\n",
       "      <th>9</th>\n",
       "      <td>Samsung Galaxy A23 Blue, 6GB RAM, 128GB Storag...</td>\n",
       "    </tr>\n",
       "    <tr>\n",
       "      <th>10</th>\n",
       "      <td>Samsung Galaxy S20 FE 5G</td>\n",
       "    </tr>\n",
       "    <tr>\n",
       "      <th>11</th>\n",
       "      <td>Samsung Galaxy A52</td>\n",
       "    </tr>\n",
       "    <tr>\n",
       "      <th>12</th>\n",
       "      <td>Samsung Galaxy M12</td>\n",
       "    </tr>\n",
       "  </tbody>\n",
       "</table>\n",
       "</div>"
      ],
      "text/plain": [
       "                                       samsung_phones\n",
       "0                             Samsung Galaxy A52s 5G \n",
       "1                                  Samsung Guru 1215 \n",
       "2                                 Samsung Galaxy M32 \n",
       "3                              Samsung Galaxy M53 5G \n",
       "4                              Samsung Galaxy M32 5G \n",
       "5   Samsung Galaxy A13 Blue, 4GB RAM, 64GB Storage...\n",
       "6                              Samsung Galaxy M33 5G \n",
       "7   Samsung Galaxy A23 Light Blue, 6GB RAM, 128GB ...\n",
       "8                           Samsung Galaxy S21 FE 5G \n",
       "9   Samsung Galaxy A23 Blue, 6GB RAM, 128GB Storag...\n",
       "10                          Samsung Galaxy S20 FE 5G \n",
       "11                                Samsung Galaxy A52 \n",
       "12                                Samsung Galaxy M12 "
      ]
     },
     "execution_count": 1,
     "metadata": {},
     "output_type": "execute_result"
    }
   ],
   "source": [
    "import time\n",
    "from selenium import webdriver\n",
    "import pandas as pd\n",
    "import numpy as np\n",
    "\n",
    "driver = webdriver.Chrome('./chromedriver')  \n",
    "\n",
    "driver.get('http://www.amazon.in');\n",
    "search_box = driver.find_element_by_xpath('/html/body/div[1]/header/div/div[1]/div[2]/div/form/div[2]/div[1]/input')\n",
    "search_box.send_keys('Samsung')\n",
    "search_box.submit()\n",
    "\n",
    "prod_name = driver.find_elements_by_css_selector('.a-size-medium')\n",
    "\n",
    "prod_list = []\n",
    "\n",
    "for i in prod_name:\n",
    "    if 'Samsung' in i.text and 'Great' not in i.text or 'samsung' in i.text and 'Great' not in i.text:\n",
    "        prod_list.append(i.text.split('(')[0])\n",
    "\n",
    "df = pd.DataFrame()\n",
    "\n",
    "df['samsung_phones'] = list(set(prod_list))\n",
    "\n",
    "df.to_csv(r'mydb.csv', index=False)\n",
    "df"
   ]
  },
  {
   "cell_type": "code",
   "execution_count": 2,
   "id": "e537dbb6",
   "metadata": {},
   "outputs": [
    {
     "name": "stderr",
     "output_type": "stream",
     "text": [
      "/tmp/ipykernel_32403/2210483038.py:6: DeprecationWarning: executable_path has been deprecated, please pass in a Service object\n",
      "  driver = webdriver.Chrome('./chromedriver')\n",
      "/tmp/ipykernel_32403/2210483038.py:9: DeprecationWarning: find_element_by_xpath is deprecated. Please use find_element(by=By.XPATH, value=xpath) instead\n",
      "  search_box = driver.find_element_by_xpath('/html/body/div[1]/header/div/div[1]/div[2]/div/form/div[2]/div[1]/input')\n",
      "/tmp/ipykernel_32403/2210483038.py:13: DeprecationWarning: find_elements_by_css_selector is deprecated. Please use find_elements(by=By.CSS_SELECTOR, value=css_selector) instead\n",
      "  prod_name = driver.find_elements_by_css_selector('.a-size-medium')\n"
     ]
    },
    {
     "data": {
      "text/plain": [
       "['Samsung Galaxy A52s 5G ',\n",
       " 'Samsung Guru 1215 ',\n",
       " 'Samsung Galaxy M32 ',\n",
       " 'Samsung Galaxy M53 5G ',\n",
       " 'Samsung Galaxy M32 5G ',\n",
       " 'Samsung Galaxy A13 Blue, 4GB RAM, 64GB Storage with No Cost EMI/Additional Exchange Offers, ',\n",
       " 'Samsung Galaxy M33 5G ',\n",
       " 'Samsung Galaxy A23 Light Blue, 6GB RAM, 128GB Storage Without Offers',\n",
       " 'Samsung Galaxy A23 Blue, 6GB RAM, 128GB Storage with No Cost EMI/Additional Exchange Offers',\n",
       " 'Samsung Galaxy S20 FE 5G ',\n",
       " 'Samsung Original EHS64 Wired in Ear Earphones with Mic, Black',\n",
       " 'Samsung Galaxy S21 FE 5G ',\n",
       " 'Samsung Galaxy M12 ']"
      ]
     },
     "execution_count": 2,
     "metadata": {},
     "output_type": "execute_result"
    }
   ],
   "source": [
    "import time\n",
    "from selenium import webdriver\n",
    "import pandas as pd\n",
    "import numpy as np\n",
    "\n",
    "driver = webdriver.Chrome('./chromedriver')  \n",
    "\n",
    "driver.get('http://www.amazon.in');\n",
    "search_box = driver.find_element_by_xpath('/html/body/div[1]/header/div/div[1]/div[2]/div/form/div[2]/div[1]/input')\n",
    "search_box.send_keys('Samsung')\n",
    "search_box.submit()\n",
    "\n",
    "prod_name = driver.find_elements_by_css_selector('.a-size-medium')\n",
    "\n",
    "prod_list = []\n",
    "\n",
    "for i in prod_name:\n",
    "    if 'Samsung' in i.text and 'Great' not in i.text or 'samsung' in i.text and 'Great' not in i.text:\n",
    "        prod_list.append(i.text.split('(')[0])\n",
    "        \n",
    "list(set(prod_list))"
   ]
  },
  {
   "cell_type": "code",
   "execution_count": 5,
   "id": "1a6406fa",
   "metadata": {
    "scrolled": false
   },
   "outputs": [
    {
     "name": "stdout",
     "output_type": "stream",
     "text": [
      "new products are :  ['Samsung Original EHS64 Wired in Ear Earphones with Mic, Black', 'Samsung Galaxy A23 Light Blue, 6GB RAM, 128GB Storage Without Offers', 'Samsung Galaxy A23 Blue, 6GB RAM, 128GB Storage with No Cost EMI/Additional Exchange Offers', 'Samsung Galaxy A13 Blue, 4GB RAM, 64GB Storage with No Cost EMI/Additional Exchange Offers, ']\n",
      "removed products are :  ['Samsung Galaxy A52 ', 'fale_prod1']\n"
     ]
    }
   ],
   "source": [
    "df = pd.read_csv(r'mydb.csv')\n",
    "\n",
    "prod_list = list(set(prod_list))\n",
    "\n",
    "db_li = df['samsung_phones'].to_list()\n",
    "\n",
    "print('new products are : ',list(set(prod_list) - set(db_li)))\n",
    "print('removed products are : ',list(set(db_li) - set(prod_list)))"
   ]
  },
  {
   "cell_type": "code",
   "execution_count": null,
   "id": "1593f570",
   "metadata": {},
   "outputs": [],
   "source": []
  },
  {
   "cell_type": "code",
   "execution_count": null,
   "id": "1448adf5",
   "metadata": {},
   "outputs": [],
   "source": []
  },
  {
   "cell_type": "code",
   "execution_count": null,
   "id": "54322515",
   "metadata": {},
   "outputs": [],
   "source": []
  },
  {
   "cell_type": "code",
   "execution_count": null,
   "id": "cd64bf4a",
   "metadata": {},
   "outputs": [],
   "source": []
  },
  {
   "cell_type": "code",
   "execution_count": null,
   "id": "a68defe9",
   "metadata": {},
   "outputs": [],
   "source": []
  },
  {
   "cell_type": "code",
   "execution_count": null,
   "id": "8dc33d96",
   "metadata": {},
   "outputs": [],
   "source": []
  },
  {
   "cell_type": "code",
   "execution_count": null,
   "id": "5aa02a14",
   "metadata": {},
   "outputs": [],
   "source": []
  },
  {
   "cell_type": "code",
   "execution_count": null,
   "id": "23f06d18",
   "metadata": {},
   "outputs": [],
   "source": []
  },
  {
   "cell_type": "code",
   "execution_count": null,
   "id": "27e73d75",
   "metadata": {},
   "outputs": [],
   "source": []
  },
  {
   "cell_type": "code",
   "execution_count": null,
   "id": "f48cb547",
   "metadata": {},
   "outputs": [],
   "source": [
    "prod_list1 = prod_list[0:5]\n",
    "\n",
    "df1 = pd.read_csv(r'new_prod.csv')\n",
    "\n",
    "old_li = []\n",
    "\n",
    "for i in range(len(df1)):\n",
    "#     print(df['samsung_phones'][i])\n",
    "    if df1['samsung_phones'][i] in prod_list1:\n",
    "        old_li.append('old')\n",
    "    elif df1['samsung_phones'][i] not in prod_list1:\n",
    "        old_li.append('new')\n",
    "df1['status'] = old_li\n",
    "df1"
   ]
  },
  {
   "cell_type": "code",
   "execution_count": null,
   "id": "abdc8ff5",
   "metadata": {},
   "outputs": [],
   "source": []
  },
  {
   "cell_type": "code",
   "execution_count": null,
   "id": "eb6af6ff",
   "metadata": {},
   "outputs": [],
   "source": []
  },
  {
   "cell_type": "code",
   "execution_count": null,
   "id": "47655925",
   "metadata": {},
   "outputs": [],
   "source": []
  }
 ],
 "metadata": {
  "kernelspec": {
   "display_name": "Python 3 (ipykernel)",
   "language": "python",
   "name": "python3"
  },
  "language_info": {
   "codemirror_mode": {
    "name": "ipython",
    "version": 3
   },
   "file_extension": ".py",
   "mimetype": "text/x-python",
   "name": "python",
   "nbconvert_exporter": "python",
   "pygments_lexer": "ipython3",
   "version": "3.8.10"
  }
 },
 "nbformat": 4,
 "nbformat_minor": 5
}
