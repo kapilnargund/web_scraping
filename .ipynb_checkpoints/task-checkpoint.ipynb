{
 "cells": [
  {
   "cell_type": "code",
   "execution_count": null,
   "id": "12006a87",
   "metadata": {},
   "outputs": [],
   "source": [
    "Complete the python function to get the output of below cases :\n",
    "\n",
    "i) case 1: n = 1, v = 1\n",
    "ii) case 2: n= 2, v = 23 (Note: 23 is derived as 1 + 22)\n",
    "iii) case 3: n= 3, v = 356 (Note: 356 is derived as 1+22+333)\n",
    "iv) case 4: n= 4, v = 4800 (Note: 4800 is derived as 1+22+333+4444)\n",
    "\n",
    "def mystery(n):\n",
    "\n",
    "...\n",
    "...\n",
    "...\n",
    "\n",
    "return v"
   ]
  },
  {
   "cell_type": "code",
   "execution_count": null,
   "id": "af094882",
   "metadata": {},
   "outputs": [],
   "source": [
    "l1 = []\n",
    "for i in range(1,5):\n",
    "    l1.append(int(i*str(i)))\n",
    "    \n",
    "sum(l1)"
   ]
  },
  {
   "cell_type": "code",
   "execution_count": null,
   "id": "1de3c483",
   "metadata": {},
   "outputs": [],
   "source": []
  },
  {
   "cell_type": "code",
   "execution_count": null,
   "id": "b3ccca00",
   "metadata": {},
   "outputs": [],
   "source": [
    "Problem Statement 1:\n",
    "\n",
    "# Write a python code using web scraping method for creating a list of\n",
    "1) Name of Diseases,\n",
    "2) URLs associated with diseases and,\n",
    "3) Icon images of diseases.\n",
    "Save the list as a CSV file.\n",
    "Create the folder using python commands to save the icon images.\n",
    "URL of webpage: https://dermnetnz.org/image-library/\n",
    "\n",
    "Use selenium libraries"
   ]
  },
  {
   "cell_type": "code",
   "execution_count": null,
   "id": "fc5872cb",
   "metadata": {},
   "outputs": [],
   "source": []
  },
  {
   "cell_type": "code",
   "execution_count": null,
   "id": "6f138edd",
   "metadata": {},
   "outputs": [],
   "source": [
    "import time\n",
    "from selenium import webdriver\n",
    "import pandas as pd\n",
    "import numpy as np\n",
    "import warnings\n",
    "warnings.filterwarnings(\"ignore\")\n",
    "\n",
    "# variables\n",
    "URL = 'https://dermnetnz.org/image-library'\n",
    "DRIVER = './chromedriver'\n",
    "name_li, url_li, icon_li = [],[],[]\n",
    "\n",
    "\n",
    "driver = webdriver.Chrome(DRIVER)  \n",
    "driver.get(URL)\n",
    "\n",
    "extract_names = driver.find_elements_by_css_selector('.imageList__group__item__copy h6')\n",
    "extract_url = driver.find_elements_by_class_name('imageList__group__item')\n",
    "preview_images = driver.find_elements_by_css_selector('.imageList__group__item__image img')\n",
    "\n",
    "for names in extract_names:\n",
    "    name_li.append(names.text.rstrip('images')) # to get exact name of disease, stripped 'images'\n",
    "    \n",
    "for url in extract_url:\n",
    "    url_li.append(url.get_attribute('href'))\n",
    "    \n",
    "for images in preview_images:\n",
    "    icon_li.append(images.get_attribute('src'))\n",
    "    \n",
    "df = pd.DataFrame()\n",
    "df['disease_name'] = name_li\n",
    "df['disease_url'] = url_li\n",
    "df['disease_icon_image'] = icon_li\n",
    "\n",
    "driver.close()\n",
    "display(df)"
   ]
  },
  {
   "cell_type": "code",
   "execution_count": null,
   "id": "6b301299",
   "metadata": {},
   "outputs": [],
   "source": [
    "df.to_csv(r'disease_info.csv', index=False)"
   ]
  },
  {
   "cell_type": "code",
   "execution_count": null,
   "id": "a475246b",
   "metadata": {},
   "outputs": [],
   "source": []
  },
  {
   "cell_type": "code",
   "execution_count": null,
   "id": "e18b0739",
   "metadata": {},
   "outputs": [],
   "source": [
    "for names in extract_names:\n",
    "    print(names.text.rstrip('images'))\n",
    "#     if 'images' in names.text:"
   ]
  },
  {
   "cell_type": "code",
   "execution_count": null,
   "id": "e0233206",
   "metadata": {},
   "outputs": [],
   "source": [
    "for url in extract_url:\n",
    "    print(url.get_attribute('href'))"
   ]
  },
  {
   "cell_type": "code",
   "execution_count": null,
   "id": "87633a41",
   "metadata": {},
   "outputs": [],
   "source": [
    "for images in preview_images:\n",
    "    print(images.get_attribute('src'))"
   ]
  },
  {
   "cell_type": "code",
   "execution_count": null,
   "id": "52806ffb",
   "metadata": {},
   "outputs": [],
   "source": []
  },
  {
   "cell_type": "code",
   "execution_count": null,
   "id": "6c31eb72",
   "metadata": {},
   "outputs": [],
   "source": [
    "all_letters.text"
   ]
  },
  {
   "cell_type": "code",
   "execution_count": null,
   "id": "d6713871",
   "metadata": {},
   "outputs": [],
   "source": [
    "for u in (all_letters.text.split('\\n')):\n",
    "    print(u)"
   ]
  },
  {
   "cell_type": "code",
   "execution_count": null,
   "id": "31036504",
   "metadata": {},
   "outputs": [],
   "source": []
  },
  {
   "cell_type": "code",
   "execution_count": null,
   "id": "9d107b46",
   "metadata": {},
   "outputs": [],
   "source": [
    "import urllib.request\n",
    "import os\n",
    "\n",
    "os.makedirs('images', exist_ok = True)\n",
    "\n",
    "opener=urllib.request.build_opener()\n",
    "opener.addheaders=[('User-Agent','Mozilla/5.0 (Windows NT 6.1; WOW64) AppleWebKit/537.36 (KHTML, like Gecko) Chrome/36.0.1941.0 Safari/537.36')]\n",
    "urllib.request.install_opener(opener)\n",
    "\n",
    "# urllib.request.urlretrieve(\"https://dermnetnz.org/assets/manualthumbnails/acne/acne-back/preview/141__FocusFillWzE1MCwxMTAsInkiLDFd.jpg\", \"local-filename.jpg\")\n",
    "\n",
    "for y in range(len(df)):\n",
    "#     print(df['disease_icon_image'][y],df['disease_name'][y])\n",
    "    try:\n",
    "        urllib.request.urlretrieve(df['disease_icon_image'][y],r'images/'+df['disease_name'][y].rstrip().replace(\"/\",\"_\")+'.jpg')\n",
    "    except:\n",
    "        print(df['disease_name'][y])"
   ]
  },
  {
   "cell_type": "code",
   "execution_count": null,
   "id": "0524a069",
   "metadata": {},
   "outputs": [],
   "source": [
    "for y in range(len(df)):\n",
    "    print(df['disease_icon_image'][y],'images/'+df['disease_name'][y].rstrip()+'.jpg')"
   ]
  },
  {
   "cell_type": "code",
   "execution_count": null,
   "id": "330f794e",
   "metadata": {},
   "outputs": [],
   "source": []
  },
  {
   "cell_type": "code",
   "execution_count": null,
   "id": "6a1a7437",
   "metadata": {},
   "outputs": [],
   "source": [
    "wait func(WebDriverWait) and wait for visibility of that element(element hidden) \n",
    "and xpath, basic python, sorting\n",
    "IDE"
   ]
  },
  {
   "cell_type": "code",
   "execution_count": null,
   "id": "66893665",
   "metadata": {},
   "outputs": [],
   "source": [
    "/html/body/div[7]/div[3]/div/div[2]/div[1]/div[2]/div/div/div/div/div[2]/div/div[1]/div/div[3]/div/table/tr/td[1]/div[2]/div[2]/div/div[3]/div/div/div/div/div/div[1]/div[2]/div[3]/div[3]/div[1]\n",
    "\n",
    "//*[@id=\":18r\"]"
   ]
  },
  {
   "cell_type": "code",
   "execution_count": null,
   "id": "7f180422",
   "metadata": {},
   "outputs": [],
   "source": [
    "string, list axis(insert n append), sorting, slicing"
   ]
  },
  {
   "cell_type": "code",
   "execution_count": null,
   "id": "7b15ee80",
   "metadata": {},
   "outputs": [],
   "source": []
  },
  {
   "cell_type": "code",
   "execution_count": null,
   "id": "8d8a0a14",
   "metadata": {},
   "outputs": [],
   "source": []
  },
  {
   "cell_type": "code",
   "execution_count": null,
   "id": "ff2c5db3",
   "metadata": {},
   "outputs": [],
   "source": [
    "r'Plasma cell balanitis/vulvitis '.rstrip().replace(\"/\",\"_\")"
   ]
  },
  {
   "cell_type": "code",
   "execution_count": null,
   "id": "8232f2a4",
   "metadata": {},
   "outputs": [],
   "source": []
  }
 ],
 "metadata": {
  "kernelspec": {
   "display_name": "Python 3 (ipykernel)",
   "language": "python",
   "name": "python3"
  },
  "language_info": {
   "codemirror_mode": {
    "name": "ipython",
    "version": 3
   },
   "file_extension": ".py",
   "mimetype": "text/x-python",
   "name": "python",
   "nbconvert_exporter": "python",
   "pygments_lexer": "ipython3",
   "version": "3.8.10"
  }
 },
 "nbformat": 4,
 "nbformat_minor": 5
}
